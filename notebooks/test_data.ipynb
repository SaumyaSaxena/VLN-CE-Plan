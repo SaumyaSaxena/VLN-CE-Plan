{
 "cells": [
  {
   "cell_type": "code",
   "execution_count": 108,
   "metadata": {},
   "outputs": [
    {
     "ename": "ModuleNotFoundError",
     "evalue": "No module named 'vlnce_baselines'",
     "output_type": "error",
     "traceback": [
      "\u001b[0;31m---------------------------------------------------------------------------\u001b[0m",
      "\u001b[0;31mModuleNotFoundError\u001b[0m                       Traceback (most recent call last)",
      "Cell \u001b[0;32mIn[108], line 2\u001b[0m\n\u001b[1;32m      1\u001b[0m \u001b[38;5;28;01mimport\u001b[39;00m \u001b[38;5;21;01mnumpy\u001b[39;00m \u001b[38;5;28;01mas\u001b[39;00m \u001b[38;5;21;01mnp\u001b[39;00m\n\u001b[0;32m----> 2\u001b[0m \u001b[38;5;28;01mfrom\u001b[39;00m \u001b[38;5;21;01mvlnce_baselines\u001b[39;00m\u001b[38;5;21;01m.\u001b[39;00m\u001b[38;5;21;01mconfig\u001b[39;00m\u001b[38;5;21;01m.\u001b[39;00m\u001b[38;5;21;01mdefault\u001b[39;00m \u001b[38;5;28;01mimport\u001b[39;00m get_config\n",
      "\u001b[0;31mModuleNotFoundError\u001b[0m: No module named 'vlnce_baselines'"
     ]
    }
   ],
   "source": [
    "import numpy as np\n",
    "from vlnce_baselines.config.default import get_config"
   ]
  },
  {
   "cell_type": "code",
   "execution_count": null,
   "metadata": {},
   "outputs": [],
   "source": [
    "# exp_config = \"vlnce_baselines/config/rxr_baselines/rxr_cma_en.yaml\"\n",
    "# config = get_config(exp_config, None)\n",
    "# dataset = TeacherRecollectionDataset(self.config)"
   ]
  },
  {
   "cell_type": "code",
   "execution_count": 109,
   "metadata": {},
   "outputs": [],
   "source": [
    "import gzip\n",
    "import json\n",
    "\n",
    "trajectories_file = '/home/sax1rng/Projects/VLN-CE-Plan/data/trajectories_dirs/rxr_en_guide_trim250/trajectories.json.gz'\n",
    "with gzip.open(trajectories_file, \"rt\") as f:\n",
    "    trajectories = json.load(f)"
   ]
  },
  {
   "cell_type": "code",
   "execution_count": 21,
   "metadata": {},
   "outputs": [
    {
     "name": "stdout",
     "output_type": "stream",
     "text": [
      "59454\n"
     ]
    }
   ],
   "source": [
    "print(len(trajectories.keys()))"
   ]
  },
  {
   "cell_type": "code",
   "execution_count": 323,
   "metadata": {},
   "outputs": [],
   "source": [
    "gt_data_files = ['/home/sax1rng/Projects/VLN-CE-Plan/data/datasets/RxR_VLNCE_v0/train/train_guide_gt.json.gz']\n",
    "gt_data = {}\n",
    "for gt_data_file in gt_data_files:\n",
    "    with gzip.open(gt_data_file,\"rt\",) as f:\n",
    "        gt_data.update(json.load(f))"
   ]
  },
  {
   "cell_type": "code",
   "execution_count": 198,
   "metadata": {},
   "outputs": [
    {
     "name": "stdout",
     "output_type": "stream",
     "text": [
      "dict_keys(['locations', 'actions', 'forward_steps'])\n",
      "2\n",
      "60300\n",
      "[2, 2, 2, 2, 1, 1, 1, 1, 1, 1, 2, 1, 1, 1, 1, 1, 1, 1, 3, 1, 2, 1, 3, 1, 2, 1, 2, 1, 1, 2, 1, 3, 1, 1, 1, 2, 1, 1, 1, 1, 1, 1, 1, 1, 1, 1, 1, 1, 1, 1, 1, 2, 1, 3, 1, 1, 1, 2, 1, 1, 3, 1, 1, 1, 2, 1, 1, 1, 1, 3, 1, 1, 2, 1, 1, 3, 1, 1, 2, 1, 1, 1, 2, 1, 1, 3, 3, 3, 3, 3, 1, 3, 1, 1, 2, 1, 1, 1, 2, 2, 2, 1, 1, 2, 1, 1, 1, 1, 1, 3, 1, 1, 2, 2, 1, 3, 1, 2, 1, 3, 1, 2, 1, 1, 3, 1, 2, 1, 1, 2, 2, 2, 2, 2, 2, 1, 1, 1, 1, 3, 1, 2, 1, 1, 3, 1, 2, 1, 1, 2, 1, 3, 1, 2, 1, 3, 1, 2, 2, 1, 1, 2, 1, 2, 1, 1, 1, 2, 1, 1, 1, 1, 1, 2, 1, 1, 1, 1, 3, 1, 1, 2, 1, 2, 1, 3, 1, 0]\n",
      "[[-9.347599983215332, 0.11554288864135742, 6.331120014190674], [-9.161352157592773, 0.11554288864135742, 6.164351463317871], [-8.975104331970215, 0.11554288864135742, 5.997582912445068], [-8.788856506347656, 0.11554288864135742, 5.830814361572266], [-8.602608680725098, 0.11554288864135742, 5.664045810699463], [-8.416360855102539, 0.11554288864135742, 5.49727725982666], [-8.23011302947998, 0.11554288864135742, 5.330508708953857], [-8.152201652526855, 0.11554288864135742, 5.092958927154541], [-8.07429027557373, 0.11554288864135742, 4.855409145355225], [-7.996379375457764, 0.11554288864135742, 4.617859363555908], [-7.918468475341797, 0.11554288864135742, 4.380309581756592], [-7.84055757522583, 0.11554288864135742, 4.142759799957275], [-7.762646675109863, 0.11554288864135742, 3.905210018157959], [-7.6847357749938965, 0.11554288864135742, 3.6676602363586426], [-7.498487949371338, 0.11554288864135742, 3.50089168548584], [-7.420577049255371, 0.11554288864135742, 3.2633419036865234], [-7.2343292236328125, 0.11554288864135742, 3.0965733528137207], [-7.156418323516846, 0.11554288864135742, 2.8590235710144043], [-7.2077202796936035, 0.11554288864135742, 2.6143438816070557], [-7.259022235870361, 0.11554288864135742, 2.369664192199707], [-7.425790786743164, 0.11554288864135742, 2.1834163665771484], [-7.477092742919922, 0.11554288864135742, 1.9387367963790894], [-7.52839469909668, 0.11554288864135742, 1.6940572261810303], [-7.5796966552734375, 0.11554288864135742, 1.4493776559829712], [-7.74646520614624, 0.11554288864135742, 1.2631298303604126], [-7.913233757019043, 0.11554288864135742, 1.076882004737854], [-8.080001831054688, 0.11554288864135742, 0.8906341791152954], [-8.246770858764648, 0.11554288864135742, 0.7043863534927368], [-8.41353988647461, 0.11554288864135742, 0.5181385278701782], [-8.58030891418457, 0.11554288864135742, 0.33189070224761963], [-8.747077941894531, 0.11554288864135742, 0.14564287662506104], [-8.913846969604492, 0.11554288864135742, -0.04060494899749756], [-9.080615997314453, 0.11554288864135742, -0.22685277462005615], [-9.247385025024414, 0.11554288864135742, -0.41310060024261475], [-9.414154052734375, 0.11554288864135742, -0.5993484258651733], [-9.580923080444336, 0.11554288864135742, -0.7855962514877319], [-9.747692108154297, 0.11554288864135742, -0.9718440771102905], [-9.914461135864258, 0.11554288864135742, -1.1580919027328491], [-10.081230163574219, 0.11554288864135742, -1.3443397283554077], [-10.318779945373535, 0.11554288864135742, -1.4222508668899536], [-10.48554801940918, 0.11554288864135742, -1.6084986925125122], [-10.652316093444824, 0.11554288864135742, -1.7947465181350708], [-10.819084167480469, 0.11554288864135742, -1.9809943437576294], [-11.056633949279785, 0.11554288864135742, -2.0589053630828857], [-11.294183731079102, 0.11554288864135742, -2.1368165016174316], [-11.460951805114746, 0.11554288864135742, -2.3230643272399902], [-11.62771987915039, 0.11554288864135742, -2.509312152862549], [-11.794487953186035, 0.11554288864135742, -2.6955599784851074], [-12.032037734985352, 0.11554288864135742, -2.7734711170196533], [-12.269587516784668, 0.11554288864135742, -2.851382255554199], [-12.507137298583984, 0.11554288864135742, -2.929293394088745], [-12.7446870803833, 0.11554288864135742, -3.007204532623291], [-12.911455154418945, 0.11554288864135742, -3.1934523582458496], [-13.07822322845459, 0.11554288864135742, -3.379700183868408], [-13.315773010253906, 0.11554288864135742, -3.457611322402954], [-13.553322792053223, 0.11554288864135742, -3.5355224609375], [-13.720090866088867, 0.11554288864135742, -3.7217702865600586], [-13.886858940124512, 0.11554288864135742, -3.908018112182617], [-14.124408721923828, 0.11554288864135742, -3.985929250717163], [-14.361958503723145, 0.11554288864135742, -4.063840389251709], [-14.599508285522461, 0.11554288864135742, -4.141751289367676], [-14.84418773651123, 0.11554288864135742, -4.090449333190918], [-15.0888671875, 0.11554288864135742, -4.03914737701416], [-14.902619361877441, 0.11554288864135742, -4.205915927886963], [-14.657939910888672, 0.11554288864135742, -4.257217884063721], [-14.413260459899902, 0.11554288864135742, -4.3085198402404785], [-14.227012634277344, 0.11554288864135742, -4.475288391113281], [-14.040764808654785, 0.11554288864135742, -4.642056941986084], [-13.854516983032227, 0.11554288864135742, -4.808825492858887], [-14.021285057067871, 0.11554288864135742, -4.995073318481445], [-14.188053131103516, 0.11554288864135742, -5.181321144104004], [-14.425602912902832, 0.11554288864135742, -5.259232044219971], [-14.663152694702148, 0.11554288864135742, -5.3371429443359375], [-14.900702476501465, 0.11554288864135742, -5.415053844451904], [-15.138252258300781, 0.11554288864135742, -5.492964744567871], [-15.375802040100098, 0.11554288864135742, -5.570875644683838], [-15.542570114135742, 0.11554288864135742, -5.7571234703063965], [-15.709338188171387, 0.11554288864135742, -5.943371295928955], [-15.954017639160156, 0.11554288864135742, -5.892069339752197], [-16.191566467285156, 0.11554288864135742, -5.969980239868164], [-16.436246871948242, 0.11554288864135742, -5.918678283691406], [-16.673795700073242, 0.11554288864135742, -5.996589183807373], [-16.918476104736328, 0.11554288864135742, -5.945287227630615], [-17.163156509399414, 0.11554288864135742, -5.893985271453857], [-17.400705337524414, 0.11554288864135742, -5.971896171569824], [-17.6453857421875, 0.11554288864135742, -5.920594215393066], [-17.890066146850586, 0.11554288864135742, -5.869292259216309], [-17.6453857421875, 0.11554288864135742, -5.920594215393066], [-17.400705337524414, 0.11554288864135742, -5.971896171569824], [-17.156024932861328, 0.11554288864135742, -6.023198127746582], [-16.911344528198242, 0.11554288864135742, -6.07450008392334], [-16.673795700073242, 0.11554288864135742, -5.996588706970215], [-16.429115295410156, 0.11554288864135742, -6.047890663146973], [-16.18443489074707, 0.11554288864135742, -6.0991926193237305], [-15.946885108947754, 0.11554288864135742, -6.0212812423706055], [-15.702205657958984, 0.11554288864135742, -6.072583198547363], [-15.457526206970215, 0.11554288864135742, -6.123885154724121], [-15.271278381347656, 0.11554288864135742, -6.290653705596924], [-15.026598930358887, 0.11554288864135742, -6.341955661773682], [-14.840351104736328, 0.11554288864135742, -6.508724212646484], [-14.595671653747559, 0.11554288864135742, -6.560026168823242], [-14.517760276794434, 0.11554288864135742, -6.797575950622559], [-14.439848899841309, 0.11554288864135742, -7.035125732421875], [-14.491150856018066, 0.11554288864135742, -7.2798051834106445], [-14.657918930053711, 0.11554288864135742, -7.466053009033203], [-14.824687957763672, 0.11554288864135742, -7.652300834655762], [-14.991456985473633, 0.11554288864135742, -7.83854866027832], [-15.22900676727295, 0.11554288864135742, -7.916459560394287], [-15.466556549072266, 0.11554288864135742, -7.994370460510254], [-15.704106330871582, 0.11554288864135742, -8.072281837463379], [-15.941656112670898, 0.11554288864135742, -8.150193214416504], [-16.1792049407959, 0.11554288864135742, -8.228104591369629], [-16.423885345458984, 0.11554288864135742, -8.176802635192871], [-16.66856575012207, 0.11554288864135742, -8.125500679016113], [-16.913246154785156, 0.11554288864135742, -8.074198722839355], [-17.157926559448242, 0.11554288864135742, -8.022896766662598], [-17.395475387573242, 0.11554288864135742, -8.100808143615723], [-17.633024215698242, 0.11554288864135742, -8.178719520568848], [-17.877704620361328, 0.11554288864135742, -8.12741756439209], [-18.063953399658203, 0.11554288864135742, -7.960649013519287], [-18.30863380432129, 0.11554288864135742, -7.909347057342529]]\n",
      "120\n"
     ]
    }
   ],
   "source": [
    "# gt_data has 60300 keys\n",
    "print((gt_data['28080'].keys()))\n",
    "print((gt_data['28080']['actions'][0]))\n",
    "# print(gt_data.keys())\n",
    "gt_data_keys = [int(k) for k in list(gt_data.keys())]\n",
    "# print(gt_data_keys)\n",
    "print(max(gt_data_keys))\n",
    "print((gt_data['28080']['actions']))\n",
    "print((gt_data['28080']['locations']))\n",
    "print((gt_data['28080']['forward_steps']))"
   ]
  },
  {
   "cell_type": "code",
   "execution_count": 65,
   "metadata": {},
   "outputs": [
    {
     "name": "stdout",
     "output_type": "stream",
     "text": [
      "dataset size: 60300\n"
     ]
    }
   ],
   "source": [
    "data_files = ['/home/sax1rng/Projects/VLN-CE-Plan/data/datasets/RxR_VLNCE_v0/train/train_guide.json.gz']\n",
    "data = {}\n",
    "for data_file in data_files:\n",
    "    with gzip.open(data_file,\"rt\",) as f:\n",
    "        data.update(json.load(f))\n",
    "print(\"dataset size:\", len(data['episodes']))"
   ]
  },
  {
   "cell_type": "code",
   "execution_count": 199,
   "metadata": {},
   "outputs": [
    {
     "name": "stdout",
     "output_type": "stream",
     "text": [
      "{'episode_id': '1', 'trajectory_id': '0', 'scene_id': 'mp3d/SN83YJsR3w2/SN83YJsR3w2.glb', 'info': {'role': 'guide'}, 'instruction': {'instruction_id': '0', 'instruction_text': \"You will start by standing in front of a glass door and on your right is a doorway. Turn around and you will see a doorway to the washroom. Walk towards the doorway and inside the washroom. Once you're there, stand in between the sink and the bathtub and once you're there, you're done.\", 'language': 'en-US', 'annotator_id': '0', 'edit_distance': 0.07692307692307693, 'timed_instruction': [{'end_time': 1.5, 'word': 'You', 'start_time': 1.0}, {'end_time': 1.6, 'word': 'will', 'start_time': 1.5}, {'start_time': 1.6, 'end_time': 2.2, 'word': 'start'}, {'start_time': 2.2, 'word': 'by', 'end_time': 2.5}, {'word': 'standing', 'start_time': 2.5, 'end_time': 3.3}, {'start_time': 3.3, 'end_time': 3.6, 'word': 'in'}, {'word': 'front', 'start_time': 3.6, 'end_time': 3.8}, {'word': 'of', 'start_time': 3.8, 'end_time': 4.4}, {'word': 'a', 'start_time': 4.4, 'end_time': 5.5}, {'end_time': 6.0, 'word': 'glass', 'start_time': 5.5}, {'start_time': 6.0, 'word': 'door', 'end_time': 6.2}, {'word': 'and', 'end_time': 7.7, 'start_time': 6.2}, {'word': 'on', 'start_time': 7.7, 'end_time': 8.3}, {'start_time': 8.3, 'end_time': 8.5, 'word': 'your'}, {'start_time': 8.5, 'word': 'right', 'end_time': 8.6}, {'word': 'is', 'end_time': 9.1, 'start_time': 8.6}, {'word': 'a', 'start_time': 9.1, 'end_time': 9.5}, {'word': 'doorway.', 'start_time': 9.5, 'end_time': 10.3}, {'start_time': 10.3, 'end_time': 12.0, 'word': 'Turn'}, {'start_time': 12.0, 'end_time': 12.7, 'word': 'around'}, {'word': 'and', 'start_time': 12.7, 'end_time': 12.9}, {'word': 'you', 'end_time': 13.0, 'start_time': 12.9}, {'start_time': 13.0, 'word': 'will', 'end_time': 13.0}, {'word': 'see', 'end_time': 13.4, 'start_time': 13.0}, {'word': 'a', 'start_time': 13.4, 'end_time': 14.9}, {'end_time': 15.3, 'start_time': 14.9, 'word': 'doorway'}, {'start_time': 15.3, 'end_time': 15.6, 'word': 'to'}, {'word': 'the', 'start_time': 15.6, 'end_time': 15.9}, {'word': 'washroom.', 'end_time': 16.5, 'start_time': 15.9}, {'start_time': 18.2, 'word': 'Walk', 'end_time': 18.9}, {'word': 'towards', 'start_time': 20.6, 'end_time': 21.2}, {'start_time': 21.2, 'word': 'the', 'end_time': 21.4}, {'word': 'doorway', 'end_time': 22.8, 'start_time': 21.4}, {'word': 'and', 'start_time': 22.8, 'end_time': 23.3}, {'start_time': 23.3, 'end_time': 23.8, 'word': 'inside'}, {'word': 'the', 'start_time': 23.8, 'end_time': 24.0}, {'start_time': 24.0, 'word': 'washroom.', 'end_time': 24.5}, {'word': 'Once', 'end_time': 26.7, 'start_time': 26.2}, {'word': \"you're\", 'end_time': 26.9, 'start_time': 26.7}, {'word': 'there,', 'end_time': 27.2, 'start_time': 26.9}, {'word': 'stand', 'start_time': 27.2, 'end_time': 28.2}, {'start_time': 29.0, 'word': 'in', 'end_time': 29.2}, {'word': 'between', 'start_time': 29.2, 'end_time': 29.3}, {'start_time': 29.3, 'word': 'the', 'end_time': 30.4}, {'word': 'sink', 'end_time': 30.8, 'start_time': 30.4}, {'end_time': 31.2, 'start_time': 30.8, 'word': 'and'}, {'word': 'the', 'end_time': 31.3, 'start_time': 31.2}, {'word': 'bathtub', 'end_time': 31.7, 'start_time': 31.3}, {'end_time': 33.9, 'word': 'and', 'start_time': 33.2}, {'word': 'once', 'start_time': 33.9, 'end_time': 34.2}, {'word': \"you're\", 'end_time': 34.3, 'start_time': 34.2}, {'word': 'there,', 'start_time': 34.3, 'end_time': 34.5}, {'start_time': 34.5, 'end_time': 35.1, 'word': \"you're\"}, {'word': 'done.', 'start_time': 35.1, 'end_time': 35.3}]}, 'reference_path': [[0.25628501176834106, 3.8914501667022705, -16.086700439453125], [0.547003984451294, 3.8914501667022705, -17.49679946899414], [1.1071385145187378, 3.8914501667022705, -18.532249450683594]], 'start_position': [0.25628501176834106, 3.8914501667022705, -16.086700439453125], 'goals': [{'position': [1.1071385145187378, 3.8914501667022705, -18.532249450683594], 'radius': 3.0}], 'start_rotation': [-0.0, 0.967659801213298, -0.0, -0.2522588137525439]}\n"
     ]
    }
   ],
   "source": [
    "print(data['episodes'][0])"
   ]
  },
  {
   "cell_type": "code",
   "execution_count": 106,
   "metadata": {},
   "outputs": [
    {
     "name": "stderr",
     "output_type": "stream",
     "text": [
      "100%|██████████████████████████████████████████████████████████████████████████████████████████████████████████████| 60300/60300 [00:00<00:00, 845300.79it/s]\n"
     ]
    }
   ],
   "source": [
    "from tqdm import trange\n",
    "dataset_size = len(data['episodes'])\n",
    "instr_ids = []\n",
    "episode_ids = []\n",
    "for i in trange(dataset_size):\n",
    "    instr_ids.append(int(data['episodes'][i]['instruction']['instruction_id']))\n",
    "    episode_ids.append(int(data['episodes'][i]['episode_id']))"
   ]
  },
  {
   "cell_type": "code",
   "execution_count": 108,
   "metadata": {
    "scrolled": true
   },
   "outputs": [
    {
     "name": "stdout",
     "output_type": "stream",
     "text": [
      "126064\n",
      "60300\n"
     ]
    }
   ],
   "source": [
    "print(max(instr_ids))\n",
    "print(max(episode_ids))"
   ]
  },
  {
   "cell_type": "code",
   "execution_count": 82,
   "metadata": {},
   "outputs": [],
   "source": [
    "import jsonlines\n",
    "rxr_data_files = ['/fs/scratch/rng_cr_aas3_gpu_user_c_lf/sp02_025_rrt/datasets/rxr-data/rxr_train_guide.jsonl.gz']\n",
    "rxr_data = []\n",
    "\n",
    "for rxr_data_file in rxr_data_files:\n",
    "    with gzip.open(rxr_data_file,\"rb\",) as f:\n",
    "        j_reader = jsonlines.Reader(f)\n",
    "        for episode in j_reader:\n",
    "            rxr_data.append(episode)"
   ]
  },
  {
   "cell_type": "code",
   "execution_count": 74,
   "metadata": {},
   "outputs": [
    {
     "name": "stdout",
     "output_type": "stream",
     "text": [
      "['tokens', 'features']\n",
      "(183,)\n",
      "(183, 768)\n"
     ]
    }
   ],
   "source": [
    "import numpy as np\n",
    "feature_file = '/home/sax1rng/Projects/VLN-CE-Plan/data/datasets/RxR_VLNCE_v0/text_features/rxr_train/054127_en_text_features.npz'\n",
    "features = np.load(feature_file)\n",
    "print((features.files))\n",
    "print(features['tokens'].shape)\n",
    "print(features['features'].shape)"
   ]
  },
  {
   "cell_type": "code",
   "execution_count": 75,
   "metadata": {
    "scrolled": true
   },
   "outputs": [
    {
     "name": "stdout",
     "output_type": "stream",
     "text": [
      "Val seen:  {'steps_taken': 163.17915742793792, 'path_length': 8.008822543150162, 'distance_to_goal': 11.663570659702227, 'success': 0.12416851441241686, 'oracle_success': 0.20044345898004434, 'spl': 0.10602345971978006, 'ndtw': 0.36739656820025635}\n",
      "Val unseen:  {'steps_taken': 165.18860724993186, 'path_length': 6.982689494432815, 'distance_to_goal': 10.834885327247498, 'success': 0.13055328427364404, 'oracle_success': 0.2030526028890706, 'spl': 0.11350013528819897, 'ndtw': 0.3925179461242119}\n"
     ]
    }
   ],
   "source": [
    "result_file_val_seen = '/home/sax1rng/Projects/VLN-CE-Plan/outputs/rxr_cma_en/pretrained/evals/stats_ckpt_0_val_seen.json'\n",
    "result_file_val_unseen = '/home/sax1rng/Projects/VLN-CE-Plan/outputs/rxr_cma_en/pretrained/evals/stats_ckpt_0_val_unseen.json'\n",
    "\n",
    "result_val_seen = {}\n",
    "result_val_unseen = {}\n",
    "with open(result_file_val_seen) as f:\n",
    "    result_val_seen.update(json.load(f))\n",
    "    \n",
    "with open(result_file_val_unseen) as f:\n",
    "    result_val_unseen.update(json.load(f))\n",
    "print(\"Val seen: \", result_val_seen)\n",
    "print(\"Val unseen: \", result_val_unseen)"
   ]
  },
  {
   "cell_type": "markdown",
   "metadata": {},
   "source": [
    "# Load data"
   ]
  },
  {
   "cell_type": "code",
   "execution_count": 324,
   "metadata": {},
   "outputs": [],
   "source": [
    "import gzip, json\n",
    "data_type='train'\n",
    "data_loc = f'/home/sax1rng/Projects/VLN-CE-Plan/data/datasets/RxR_VLNCE_v0/{data_type}/{data_type}_guide_high_level_instr.json.gz'\n",
    "data_hl = {}\n",
    "with gzip.open(data_loc,\"rt\",) as f:\n",
    "    data_hl.update(json.load(f))\n",
    "\n",
    "data_location = f'/home/sax1rng/Projects/VLN-CE-Plan/data/datasets/RxR_VLNCE_v0/{data_type}/{data_type}_guide.json.gz'\n",
    "data = {}\n",
    "with gzip.open(data_location,\"rt\",) as f:\n",
    "    data.update(json.load(f))\n",
    "\n",
    "gt_data_files = [f'/home/sax1rng/Projects/VLN-CE-Plan/data/datasets/RxR_VLNCE_v0/{data_type}/{data_type}_guide_gt.json.gz']\n",
    "gt_data = {}\n",
    "for gt_data_file in gt_data_files:\n",
    "    with gzip.open(gt_data_file,\"rt\",) as f:\n",
    "        gt_data.update(json.load(f))"
   ]
  },
  {
   "cell_type": "code",
   "execution_count": 344,
   "metadata": {
    "scrolled": true
   },
   "outputs": [
    {
     "name": "stdout",
     "output_type": "stream",
     "text": [
      "Full instruction:\n",
      " you will start facing a dining table at a child's height level, take one step towards the yellow counter on your left. You should be standing up now, take one step towards the plant in a yellow pot next to the room in front you. Take another step towards that same plant, now turn to the right, you should be standing next to the plant in a yellow pot and in front of you there will be a couch, take on step towards the couch, you should be standing to the left of the couch, looking at the painting on the wall of some kids playing in grass, take on step towards it, you will be at kid's level again, in front of you there will be stairs, take one step onto the stairs, take another step, and now take 3 steps to go up the stairs. Take another step and you should be standing at the edge of the stairs the very top, looking to the left, follow he railing, take one step towards the guitars, take another step towards the drums, you should be at kid's height level again, take another step towards the blue outlet on the wall next to the drums underneath the hanging guitars, right now you should be right next to the blue outlet and right before the guitar in the corner, if you're there, you're done.\n",
      "\n",
      " High level instruction: \n",
      " goto the blue outlet which is near the guitars in the music room\n"
     ]
    }
   ],
   "source": [
    "import numpy as np\n",
    "dataset_size = len(data['episodes'])\n",
    "en_idx = [i for i in range(dataset_size) if ('en' in data['episodes'][i]['instruction']['language'])]\n",
    "episode_id = np.random.choice(en_idx) # 4301 is not right\n",
    "print(\"Full instruction:\\n\", data['episodes'][episode_id]['instruction']['instruction_text'])\n",
    "print(\"\\n High level instruction: \\n\", data_hl['episodes'][episode_id]['instruction']['high_level_instruction'])"
   ]
  },
  {
   "cell_type": "code",
   "execution_count": 345,
   "metadata": {},
   "outputs": [
    {
     "name": "stdout",
     "output_type": "stream",
     "text": [
      "['pano', 'time', 'extrinsic_matrix', 'intrinsic_matrix', 'image_mask', 'feature_weights', 'text_masks']\n"
     ]
    }
   ],
   "source": [
    "pose_traces_path = '/fs/scratch/rng_cr_aas3_gpu_user_c_lf/sp02_025_rrt/datasets/rxr-data/pose_traces/rxr_train/'\n",
    "pose_traces_file_name = \"{id:06}_guide_pose_trace.npz\"\n",
    "\n",
    "instruction_text = data['episodes'][episode_id]['instruction']['instruction_text']\n",
    "instruction_id = data['episodes'][episode_id]['instruction']['instruction_id']\n",
    "\n",
    "# instruction_id = 46944\n",
    "pose_traces_file_name = pose_traces_path + pose_traces_file_name.format(id=int(instruction_id))\n",
    "pose_traces = np.load(pose_traces_file_name)\n",
    "print(pose_traces.files)"
   ]
  },
  {
   "cell_type": "code",
   "execution_count": 346,
   "metadata": {
    "scrolled": true
   },
   "outputs": [
    {
     "name": "stdout",
     "output_type": "stream",
     "text": [
      "Text masks shape (15, 287)\n",
      "Number of words: 232\n",
      "Final time pose traces 183.131051\n",
      "End time of last word 181.8\n",
      "Number of timesteps: 10538\n",
      "Number of reference path waypoints: 15\n",
      "[{'start_time': 1.5, 'word': 'you', 'end_time': 2}, {'word': 'will', 'start_time': 2, 'end_time': 2.1}, {'start_time': 2.1, 'word': 'start', 'end_time': 2.8}, {'start_time': 2.8, 'word': 'facing', 'end_time': 4.1}, {'word': 'a', 'start_time': 4.1, 'end_time': 5.1}, {'start_time': 5.1, 'end_time': 7.1, 'word': 'dining'}, {'start_time': 7.1, 'word': 'table', 'end_time': 7.4}, {'word': 'at', 'start_time': 7.4, 'end_time': 8.9}, {'word': 'a', 'end_time': 9, 'start_time': 8.9}, {'start_time': 9, 'end_time': 9.8, 'word': \"child's\"}, {'word': 'height', 'start_time': 9.8, 'end_time': 10.5}, {'start_time': 10.5, 'word': 'level,', 'end_time': 11.1}, {'start_time': 12.9, 'end_time': 13.8, 'word': 'take'}, {'end_time': 14.4, 'start_time': 13.8, 'word': 'one'}, {'start_time': 14.4, 'end_time': 14.6, 'word': 'step'}, {'start_time': 16.3, 'word': 'towards', 'end_time': 17.2}, {'word': 'the', 'start_time': 17.2, 'end_time': 17.4}, {'start_time': 17.4, 'end_time': 17.9, 'word': 'yellow'}, {'start_time': 17.9, 'word': 'counter', 'end_time': 18.7}, {'end_time': 19.5, 'start_time': 18.7, 'word': 'on'}, {'end_time': 19.6, 'word': 'your', 'start_time': 19.5}, {'end_time': 20.2, 'start_time': 19.6, 'word': 'left.'}, {'start_time': 26, 'word': 'You', 'end_time': 26.5}, {'start_time': 26.5, 'word': 'should', 'end_time': 26.8}, {'start_time': 26.8, 'word': 'be', 'end_time': 27.1}, {'end_time': 27.5, 'word': 'standing', 'start_time': 27.1}, {'start_time': 27.5, 'word': 'up', 'end_time': 28}, {'start_time': 28, 'end_time': 28.3, 'word': 'now,'}, {'word': 'take', 'end_time': 30.3, 'start_time': 29.8}, {'word': 'one', 'end_time': 31, 'start_time': 30.3}, {'end_time': 31.2, 'word': 'step', 'start_time': 31}, {'word': 'towards', 'start_time': 33.4, 'end_time': 34.5}, {'word': 'the', 'end_time': 35.7, 'start_time': 34.5}, {'word': 'plant', 'end_time': 36.8, 'start_time': 35.7}, {'end_time': 37.2, 'start_time': 36.8, 'word': 'in'}, {'word': 'a', 'start_time': 37.2, 'end_time': 37.3}, {'start_time': 37.3, 'word': 'yellow', 'end_time': 37.7}, {'end_time': 38.5, 'word': 'pot', 'start_time': 37.7}, {'word': 'next', 'start_time': 38.5, 'end_time': 39.4}, {'word': 'to', 'end_time': 39.7, 'start_time': 39.4}, {'end_time': 39.8, 'start_time': 39.7, 'word': 'the'}, {'start_time': 39.8, 'end_time': 40.3, 'word': 'room'}, {'start_time': 40.3, 'word': 'in', 'end_time': 40.6}, {'start_time': 40.6, 'word': 'front', 'end_time': 40.8}, {'end_time': 41.3, 'start_time': 40.8, 'word': 'you.'}, {'end_time': 43.8, 'word': 'Take', 'start_time': 43.4}, {'word': 'another', 'start_time': 43.8, 'end_time': 44.1}, {'start_time': 44.1, 'word': 'step', 'end_time': 44.6}, {'start_time': 44.6, 'word': 'towards', 'end_time': 45.2}, {'start_time': 45.2, 'end_time': 45.4, 'word': 'that'}, {'word': 'same', 'end_time': 45.9, 'start_time': 45.4}, {'start_time': 45.9, 'end_time': 46.5, 'word': 'plant,'}, {'end_time': 49.8, 'start_time': 49.4, 'word': 'now'}, {'start_time': 49.8, 'word': 'turn', 'end_time': 50.3}, {'word': 'to', 'end_time': 50.5, 'start_time': 50.3}, {'end_time': 50.6, 'start_time': 50.5, 'word': 'the'}, {'word': 'right,', 'start_time': 50.6, 'end_time': 50.9}, {'end_time': 53.8, 'word': 'you', 'start_time': 53.3}, {'start_time': 53.8, 'word': 'should', 'end_time': 54.3}, {'word': 'be', 'end_time': 54.5, 'start_time': 54.3}, {'start_time': 54.5, 'end_time': 54.9, 'word': 'standing'}, {'start_time': 54.9, 'word': 'next', 'end_time': 55.1}, {'word': 'to', 'start_time': 55.1, 'end_time': 55.5}, {'end_time': 56.2, 'start_time': 55.5, 'word': 'the'}, {'word': 'plant', 'end_time': 56.9, 'start_time': 56.2}, {'start_time': 56.9, 'end_time': 57.2, 'word': 'in'}, {'word': 'a', 'start_time': 57.2, 'end_time': 57.2}, {'word': 'yellow', 'start_time': 57.2, 'end_time': 57.5}, {'start_time': 57.5, 'word': 'pot', 'end_time': 58.1}, {'word': 'and', 'start_time': 58.1, 'end_time': 59.1}, {'start_time': 59.1, 'word': 'in', 'end_time': 59.2}, {'end_time': 59.6, 'word': 'front', 'start_time': 59.2}, {'end_time': 59.6, 'start_time': 59.6, 'word': 'of'}, {'word': 'you', 'start_time': 59.6, 'end_time': 59.9}, {'end_time': 60.1, 'word': 'there', 'start_time': 59.9}, {'word': 'will', 'end_time': 60.3, 'start_time': 60.1}, {'word': 'be', 'end_time': 60.4, 'start_time': 60.3}, {'end_time': 60.8, 'start_time': 60.4, 'word': 'a'}, {'word': 'couch,', 'end_time': 61.4, 'start_time': 60.8}, {'word': 'take', 'start_time': 62.6, 'end_time': 63.2}, {'word': 'on', 'start_time': 63.2, 'end_time': 63.5}, {'word': 'step', 'start_time': 63.5, 'end_time': 63.7}, {'end_time': 64.5, 'word': 'towards', 'start_time': 63.7}, {'end_time': 64.6, 'start_time': 64.5, 'word': 'the'}, {'word': 'couch,', 'start_time': 64.6, 'end_time': 65.1}, {'start_time': 68.5, 'end_time': 69, 'word': 'you'}, {'word': 'should', 'start_time': 69, 'end_time': 69.2}, {'word': 'be', 'end_time': 69.4, 'start_time': 69.2}, {'word': 'standing', 'end_time': 69.9, 'start_time': 69.4}, {'start_time': 69.9, 'word': 'to', 'end_time': 70.5}, {'start_time': 70.5, 'word': 'the', 'end_time': 70.6}, {'end_time': 71.4, 'word': 'left', 'start_time': 70.6}, {'word': 'of', 'start_time': 71.4, 'end_time': 71.8}, {'start_time': 71.8, 'end_time': 71.9, 'word': 'the'}, {'start_time': 71.9, 'end_time': 72.5, 'word': 'couch,'}, {'word': 'looking', 'end_time': 75, 'start_time': 74.2}, {'start_time': 75, 'word': 'at', 'end_time': 75.5}, {'start_time': 75.5, 'word': 'the', 'end_time': 75.7}, {'end_time': 76.4, 'word': 'painting', 'start_time': 75.7}, {'word': 'on', 'start_time': 76.4, 'end_time': 76.7}, {'end_time': 76.8, 'start_time': 76.7, 'word': 'the'}, {'end_time': 77.3, 'start_time': 76.8, 'word': 'wall'}, {'word': 'of', 'end_time': 78.5, 'start_time': 77.3}, {'start_time': 78.5, 'end_time': 78.9, 'word': 'some'}, {'word': 'kids', 'start_time': 78.9, 'end_time': 79.6}, {'word': 'playing', 'end_time': 80.2, 'start_time': 79.6}, {'word': 'in', 'end_time': 80.5, 'start_time': 80.2}, {'start_time': 80.5, 'end_time': 81.6, 'word': 'grass,'}, {'start_time': 81.6, 'end_time': 82.9, 'word': 'take'}, {'word': 'on', 'start_time': 82.9, 'end_time': 83.2}, {'start_time': 83.2, 'end_time': 83.6, 'word': 'step'}, {'start_time': 83.6, 'word': 'towards', 'end_time': 84.4}, {'start_time': 84.4, 'end_time': 84.6, 'word': 'it,'}, {'word': 'you', 'start_time': 87.1, 'end_time': 87.6}, {'word': 'will', 'start_time': 87.6, 'end_time': 87.7}, {'end_time': 87.9, 'word': 'be', 'start_time': 87.7}, {'start_time': 87.9, 'word': 'at', 'end_time': 89.4}, {'start_time': 89.4, 'word': \"kid's\", 'end_time': 90.1}, {'word': 'level', 'end_time': 90.6, 'start_time': 90.1}, {'start_time': 90.6, 'end_time': 91.4, 'word': 'again,'}, {'word': 'in', 'start_time': 93.2, 'end_time': 93.6}, {'end_time': 94, 'start_time': 93.6, 'word': 'front'}, {'word': 'of', 'end_time': 94, 'start_time': 94}, {'word': 'you', 'end_time': 94.2, 'start_time': 94}, {'word': 'there', 'start_time': 94.2, 'end_time': 94.4}, {'end_time': 94.5, 'start_time': 94.4, 'word': 'will'}, {'word': 'be', 'start_time': 94.5, 'end_time': 94.6}, {'end_time': 96.3, 'word': 'stairs,', 'start_time': 94.6}, {'end_time': 97, 'word': 'take', 'start_time': 96.3}, {'start_time': 97, 'word': 'one', 'end_time': 97.4}, {'word': 'step', 'start_time': 97.4, 'end_time': 97.8}, {'start_time': 97.8, 'word': 'onto', 'end_time': 98.7}, {'start_time': 98.7, 'word': 'the', 'end_time': 99}, {'word': 'stairs,', 'end_time': 99.7, 'start_time': 99}, {'word': 'take', 'start_time': 104.5, 'end_time': 105.7}, {'word': 'another', 'start_time': 105.7, 'end_time': 107}, {'start_time': 107, 'word': 'step,', 'end_time': 107.7}, {'end_time': 111.5, 'word': 'and', 'start_time': 111}, {'start_time': 111.5, 'word': 'now', 'end_time': 111.6}, {'word': 'take', 'end_time': 112.2, 'start_time': 111.6}, {'word': '3', 'end_time': 112.6, 'start_time': 112.2}, {'start_time': 112.6, 'word': 'steps', 'end_time': 112.9}, {'start_time': 112.9, 'word': 'to', 'end_time': 113.5}, {'word': 'go', 'end_time': 113.7, 'start_time': 113.5}, {'word': 'up the'}, {'word': 'stairs.', 'end_time': 114.7, 'start_time': 113.7}, {'word': 'Take', 'end_time': 123.7, 'start_time': 123.2}, {'word': 'another', 'start_time': 123.7, 'end_time': 124}, {'end_time': 124.4, 'word': 'step', 'start_time': 124}, {'end_time': 124.9, 'word': 'and', 'start_time': 124.4}, {'word': 'you', 'start_time': 124.9, 'end_time': 125.3}, {'start_time': 125.3, 'end_time': 125.7, 'word': 'should'}, {'end_time': 126, 'word': 'be', 'start_time': 125.7}, {'word': 'standing', 'end_time': 126.4, 'start_time': 126}, {'end_time': 126.8, 'word': 'at', 'start_time': 126.4}, {'start_time': 126.8, 'end_time': 126.9, 'word': 'the'}, {'end_time': 127.3, 'word': 'edge', 'start_time': 126.9}, {'start_time': 127.3, 'word': 'of', 'end_time': 127.5}, {'word': 'the', 'end_time': 127.6, 'start_time': 127.5}, {'end_time': 128.3, 'word': 'stairs', 'start_time': 127.6}, {'start_time': 128.4, 'word': 'the', 'end_time': 128.7}, {'end_time': 129, 'word': 'very', 'start_time': 128.7}, {'word': 'top,', 'end_time': 129.4, 'start_time': 129}, {'word': 'looking', 'end_time': 132.4, 'start_time': 131.7}, {'end_time': 132.6, 'word': 'to', 'start_time': 132.4}, {'start_time': 132.6, 'word': 'the', 'end_time': 132.7}, {'word': 'left,', 'start_time': 132.7, 'end_time': 132.9}, {'word': 'follow', 'start_time': 132.9, 'end_time': 134.5}, {'start_time': 134.5, 'end_time': 135.2, 'word': 'he'}, {'word': 'railing,', 'end_time': 135.8, 'start_time': 135.2}, {'word': 'take', 'start_time': 135.8, 'end_time': 136.6}, {'end_time': 137.2, 'start_time': 136.6, 'word': 'one'}, {'start_time': 137.2, 'end_time': 137.6, 'word': 'step'}, {'word': 'towards', 'start_time': 137.6, 'end_time': 138.2}, {'end_time': 138.3, 'word': 'the', 'start_time': 138.2}, {'word': 'guitars,', 'start_time': 138.3, 'end_time': 139}, {'end_time': 141.7, 'start_time': 141.2, 'word': 'take'}, {'start_time': 141.7, 'end_time': 142.1, 'word': 'another'}, {'word': 'step', 'start_time': 142.1, 'end_time': 142.6}, {'word': 'towards', 'start_time': 142.6, 'end_time': 143.3}, {'end_time': 143.4, 'word': 'the', 'start_time': 143.3}, {'end_time': 144.1, 'word': 'drums,', 'start_time': 143.4}, {'word': 'you', 'end_time': 146.6, 'start_time': 146.2}, {'start_time': 146.6, 'end_time': 146.9, 'word': 'should'}, {'end_time': 147.1, 'start_time': 146.9, 'word': 'be'}, {'word': 'at', 'start_time': 147.1, 'end_time': 147.3}, {'start_time': 147.3, 'end_time': 147.9, 'word': \"kid's\"}, {'end_time': 148.3, 'start_time': 147.9, 'word': 'height'}, {'word': 'level', 'start_time': 148.3, 'end_time': 148.7}, {'start_time': 148.7, 'word': 'again,', 'end_time': 149.2}, {'start_time': 150.8, 'word': 'take', 'end_time': 151.3}, {'word': 'another', 'end_time': 151.6, 'start_time': 151.3}, {'end_time': 152.2, 'word': 'step', 'start_time': 151.6}, {'end_time': 153.3, 'word': 'towards', 'start_time': 152.2}, {'start_time': 153.3, 'end_time': 154, 'word': 'the'}, {'word': 'blue', 'end_time': 154.4, 'start_time': 154}, {'word': 'outlet', 'end_time': 155.4, 'start_time': 154.4}, {'word': 'on', 'end_time': 156, 'start_time': 155.4}, {'end_time': 156.1, 'start_time': 156, 'word': 'the'}, {'start_time': 156.1, 'end_time': 156.5, 'word': 'wall'}, {'word': 'next', 'start_time': 156.5, 'end_time': 157.4}, {'word': 'to', 'start_time': 157.4, 'end_time': 157.7}, {'word': 'the', 'start_time': 157.7, 'end_time': 157.8}, {'word': 'drums', 'end_time': 158.6, 'start_time': 157.8}, {'end_time': 161.2, 'word': 'underneath', 'start_time': 160.1}, {'start_time': 161.2, 'end_time': 161.4, 'word': 'the'}, {'start_time': 161.4, 'word': 'hanging', 'end_time': 162}, {'word': 'guitars,', 'end_time': 162.6, 'start_time': 162}, {'end_time': 166.3, 'word': 'right', 'start_time': 165.8}, {'end_time': 166.5, 'word': 'now', 'start_time': 166.3}, {'end_time': 167, 'start_time': 166.5, 'word': 'you'}, {'end_time': 167.1, 'start_time': 167, 'word': 'should'}, {'end_time': 167.6, 'word': 'be', 'start_time': 167.1}, {'end_time': 170.1, 'word': 'right', 'start_time': 169.5}, {'word': 'next', 'start_time': 170.1, 'end_time': 170.4}, {'word': 'to', 'end_time': 170.6, 'start_time': 170.4}, {'start_time': 170.6, 'end_time': 170.7, 'word': 'the'}, {'start_time': 170.7, 'end_time': 171, 'word': 'blue'}, {'word': 'outlet', 'start_time': 171, 'end_time': 171.7}, {'word': 'and', 'end_time': 174.6, 'start_time': 173.9}, {'start_time': 175.9, 'end_time': 176.5, 'word': 'right'}, {'start_time': 176.5, 'end_time': 176.8, 'word': 'before'}, {'word': 'the', 'start_time': 178.2, 'end_time': 178.6}, {'word': 'guitar', 'end_time': 179.2, 'start_time': 178.6}, {'word': 'in', 'start_time': 179.2, 'end_time': 179.5}, {'end_time': 179.6, 'word': 'the', 'start_time': 179.5}, {'end_time': 180.1, 'word': 'corner,', 'start_time': 179.6}, {'end_time': 180.9, 'word': 'if', 'start_time': 180.1}, {'start_time': 180.9, 'word': \"you're\", 'end_time': 181.1}, {'start_time': 181.1, 'end_time': 181.3, 'word': 'there,'}, {'word': \"you're\", 'start_time': 181.3, 'end_time': 181.5}, {'end_time': 181.8, 'word': 'done.', 'start_time': 181.5}]\n"
     ]
    }
   ],
   "source": [
    "print('Text masks shape', pose_traces['text_masks'].shape)\n",
    "timed_instr_len = len(data['episodes'][episode_id]['instruction']['timed_instruction'])\n",
    "print('Number of words:', timed_instr_len)\n",
    "\n",
    "print('Final time pose traces', pose_traces['time'][-1])\n",
    "print('End time of last word', data['episodes'][episode_id]['instruction']['timed_instruction'][-1]['end_time'])\n",
    "\n",
    "print('Number of timesteps:', len(pose_traces['time']))\n",
    "print('Number of reference path waypoints:', len(data['episodes'][episode_id]['reference_path']))\n",
    "\n",
    "print(data['episodes'][episode_id]['instruction']['timed_instruction'])\n",
    "# for w in range(timed_instr_len):\n",
    "#     if 'start_time' in data['episodes'][episode_id]['instruction']['timed_instruction'][w].keys():\n",
    "#         continue\n",
    "#     else:\n",
    "#         print(f'key does not exist in {w}')\n",
    "#     if 'end_time' in data['episodes'][episode_id]['instruction']['timed_instruction'][w].keys():\n",
    "#         continue\n",
    "#     else:\n",
    "#         print(f'key does not exist in {w}')"
   ]
  },
  {
   "cell_type": "code",
   "execution_count": 347,
   "metadata": {},
   "outputs": [
    {
     "name": "stdout",
     "output_type": "stream",
     "text": [
      "Number of forward steps: 15\n",
      "Step 1: you will start facing a dining table at a child's height level, take one step towards the yellow counter on your left.\n",
      "Step 2: You should be standing up now, take one step towards the plant in a yellow pot next to the room in front you.\n",
      "Step 3: Take another step towards that same plant,\n",
      "Step 4: now turn to the right, you should be standing next to the plant in a yellow pot and in front of you there will be a couch, take on step towards the\n",
      "Step 5: couch, you should be standing to the left of the couch, looking at the painting on the wall of some kids playing in grass, take on step towards it,\n",
      "Step 6: you will be at kid's level again, in front of you there will be stairs, take one step onto\n",
      "Step 7: the stairs, take another\n",
      "Step 8: step, and now take 3 steps to go up the stairs.\n",
      "Step 9: Take\n",
      "Step 10: another\n",
      "Step 11: step and\n",
      "Step 12: you should be standing at the edge of the stairs the very top, looking to the left, follow he railing, take one step towards the guitars,\n",
      "Step 13: take another step towards the drums,\n",
      "Step 14: you should be at kid's height level again, take another step towards the blue outlet on the wall next to the drums underneath the hanging guitars,\n",
      "Step 15: right now you should be right next to the blue outlet and right before the guitar in the corner, if you're there, you're done.\n"
     ]
    }
   ],
   "source": [
    "# Finding the jump points\n",
    "x_t = pose_traces['extrinsic_matrix'][:-1,0, 3]\n",
    "x_tp1 = pose_traces['extrinsic_matrix'][1:,0, 3]\n",
    "diff = x_tp1 - x_t\n",
    "jumps = abs(diff) > 0.0001\n",
    "jumps_ts = np.zeros(sum(jumps)+1)\n",
    "\n",
    "jumps_ts[:-1] = pose_traces['time'][:-1][jumps]\n",
    "jumps_ts[-1] = data['episodes'][episode_id]['instruction']['timed_instruction'][-1]['end_time']\n",
    "print('Number of forward steps:', sum(jumps)+1)\n",
    "j_ts = 0\n",
    "t = jumps_ts[j_ts]\n",
    "instr = []\n",
    "for l in range(timed_instr_len):\n",
    "    if 'end_time' in data['episodes'][episode_id]['instruction']['timed_instruction'][l].keys():\n",
    "        if data['episodes'][episode_id]['instruction']['timed_instruction'][l]['end_time'] <= t:\n",
    "            instr.append(data['episodes'][episode_id]['instruction']['timed_instruction'][l]['word'])\n",
    "        else:\n",
    "            print(f'Step {j_ts+1}:', ' '.join(instr))\n",
    "            j_ts += 1\n",
    "            t = jumps_ts[j_ts]\n",
    "            instr = [data['episodes'][episode_id]['instruction']['timed_instruction'][l]['word']]\n",
    "    else:\n",
    "        instr.append(data['episodes'][episode_id]['instruction']['timed_instruction'][l]['word'])\n",
    "print(f'Step {j_ts+1}:', ' '.join(instr))"
   ]
  },
  {
   "cell_type": "code",
   "execution_count": 348,
   "metadata": {},
   "outputs": [
    {
     "data": {
      "image/png": "[encoded data removed]",
      "text/plain": [
       "<Figure size 500x500 with 4 Axes>"
      ]
     },
     "metadata": {},
     "output_type": "display_data"
    }
   ],
   "source": [
    "import matplotlib.pyplot as plt\n",
    "\n",
    "fig, axs = plt.subplots(2, 2, figsize=(5, 5), constrained_layout=True)\n",
    "\n",
    "fig.suptitle('Pose traces', fontsize=12)\n",
    "axs[0,0].plot(pose_traces['time'], pose_traces['extrinsic_matrix'][:,0, 3])\n",
    "axs[0,0].set_xlabel('t'); axs[0,0].set_ylabel('x')\n",
    "axs[0,1].plot(pose_traces['time'], pose_traces['extrinsic_matrix'][:,1, 3])\n",
    "axs[0,1].set_xlabel('t'); axs[0,1].set_ylabel('y')\n",
    "axs[1,0].plot(pose_traces['time'], pose_traces['extrinsic_matrix'][:,2, 3])\n",
    "axs[1,0].set_xlabel('t'); axs[1,0].set_ylabel('z')\n",
    "axs[1,1].plot(pose_traces['extrinsic_matrix'][:,0, 3], pose_traces['extrinsic_matrix'][:,1, 3])\n",
    "axs[1,1].set_xlabel('x'); axs[1,1].set_ylabel('y')\n",
    "#axs[1,1].plot(pose_traces['time'][:-1], diff)\n",
    "plt.show()"
   ]
  },
  {
   "cell_type": "code",
   "execution_count": 349,
   "metadata": {},
   "outputs": [
    {
     "name": "stdout",
     "output_type": "stream",
     "text": [
      "Number of locations (80, 3)\n",
      "Number of actions 117\n",
      "Number of forward steps in gt_data 79\n",
      "Number of forward steps in gt_data from actions 79\n",
      "dt 1.5652226581196582\n"
     ]
    },
    {
     "data": {
      "image/png": "[encoded data removed]",
      "text/plain": [
       "<Figure size 500x500 with 4 Axes>"
      ]
     },
     "metadata": {},
     "output_type": "display_data"
    }
   ],
   "source": [
    "locations = np.array(gt_data[f'{episode_id}']['locations'])\n",
    "num_actions = len(gt_data[f'{episode_id}']['actions'])\n",
    "print('Number of locations', locations.shape)\n",
    "print('Number of actions', num_actions)\n",
    "print('Number of forward steps in gt_data', (gt_data[f'{episode_id}']['forward_steps']))\n",
    "print('Number of forward steps in gt_data from actions', np.sum(np.array(gt_data[f'{episode_id}']['actions'])==1))\n",
    "print('dt', pose_traces['time'][-1]/num_actions)\n",
    "\n",
    "fig, axs = plt.subplots(2,2, figsize=(5, 5), constrained_layout=True)\n",
    "fig.suptitle('Ground truth actions and trajectory', fontsize=9)\n",
    "\n",
    "axs[0,0].scatter(range(len(gt_data[f'{episode_id}']['actions'])), gt_data[f'{episode_id}']['actions'])\n",
    "axs[0,0].set_xlabel('Steps'); axs[0,0].set_ylabel('Actions')\n",
    "\n",
    "axs[0,1].plot(locations[:,0])\n",
    "axs[0,1].set_xlabel('Steps'); axs[0,1].set_ylabel('x')\n",
    "\n",
    "axs[1,0].plot(locations[:,1])\n",
    "axs[1,0].set_xlabel('Steps'); axs[1,0].set_ylabel('y')\n",
    "\n",
    "axs[1,1].plot(locations[:,2])\n",
    "axs[1,1].set_xlabel('Steps'); axs[1,1].set_ylabel('z')\n",
    "plt.show()"
   ]
  },
  {
   "cell_type": "code",
   "execution_count": 350,
   "metadata": {},
   "outputs": [
    {
     "name": "stdout",
     "output_type": "stream",
     "text": [
      "[-8.04508972 -7.85592651 -7.61037922 -7.36483192 -7.12869501 -6.96524096\n",
      " -6.8017869  -6.56564999 -6.32951307 -6.09337616 -5.85723925 -5.62110233\n",
      " -5.38496542 -5.14882851 -4.91269159 -4.67655468 -4.44041777 -4.20428085\n",
      " -3.9681437  -4.0502367  -4.13232994 -4.21442318 -4.29651642 -4.37860966\n",
      " -4.33163595 -4.28466225 -4.36675549 -4.44884872 -4.40187502 -4.35490131\n",
      " -4.43699455 -4.51908779 -4.60118103 -4.68327427 -4.76536751 -4.84746075\n",
      " -4.92955399 -5.01164722 -4.77551031 -4.5393734  -4.30323648 -4.06709957\n",
      " -3.83096242 -3.66750836 -3.42196107 -3.33986783 -3.15070438 -3.06861115\n",
      " -3.11558485 -3.16255856 -3.20953226 -3.25650597 -3.17441273 -3.09231949\n",
      " -3.01223326 -3.05920696 -3.10618067 -3.15315437 -3.20012808 -3.24710178\n",
      " -3.29407549 -3.34104919 -3.50450325 -3.66795731 -3.71493101 -3.87838507\n",
      " -3.92535877 -4.08881283 -4.13578653 -4.29924059 -4.34621429 -4.50966835\n",
      " -4.67312241 -4.83657646 -4.88355017 -4.93052387 -4.97749758 -5.02447128\n",
      " -5.07144499 -5.11841869]\n",
      "[-8.04511833 -7.6007123  -6.34010077 -3.62087655 -4.46316385 -5.20517635\n",
      " -4.10904741 -3.19057202 -3.18596005 -3.17894506 -3.17332149 -3.15445518\n",
      " -3.94706893 -5.16123056]\n"
     ]
    }
   ],
   "source": [
    "print(locations[:,0])\n",
    "print(pose_traces['extrinsic_matrix'][:-1, 0, 3][jumps])"
   ]
  },
  {
   "cell_type": "code",
   "execution_count": 352,
   "metadata": {},
   "outputs": [
    {
     "name": "stdout",
     "output_type": "stream",
     "text": [
      "2.86102294921875e-05\n",
      "0.009666919708251953\n",
      "0.010587692260742188\n",
      "0.046631813049316406\n",
      "0.014315128326416016\n",
      "0.05634784698486328\n",
      "0.02023458480834961\n",
      "0.009556055068969727\n",
      "0.011547327041625977\n",
      "0.004532337188720703\n",
      "0.0010912418365478516\n",
      "0.001300811767578125\n",
      "0.021074771881103516\n",
      "0.012402057647705078\n"
     ]
    }
   ],
   "source": [
    "for pt in pose_traces['extrinsic_matrix'][:-1, 0, 3][jumps]:\n",
    "    print(min(abs((pt - locations[:,0]))))"
   ]
  },
  {
   "cell_type": "code",
   "execution_count": null,
   "metadata": {},
   "outputs": [],
   "source": []
  }
 ],
 "metadata": {
  "kernelspec": {
   "display_name": "venv-llama",
   "language": "python",
   "name": "venv-llama"
  },
  "language_info": {
   "codemirror_mode": {
    "name": "ipython",
    "version": 3
   },
   "file_extension": ".py",
   "mimetype": "text/x-python",
   "name": "python",
   "nbconvert_exporter": "python",
   "pygments_lexer": "ipython3",
   "version": "3.11.5"
  }
 },
 "nbformat": 4,
 "nbformat_minor": 2
}
